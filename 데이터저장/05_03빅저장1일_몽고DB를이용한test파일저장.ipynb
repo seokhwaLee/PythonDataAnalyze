{
 "cells": [
  {
   "cell_type": "code",
   "execution_count": 1,
   "metadata": {},
   "outputs": [],
   "source": [
    "from pymongo import MongoClient\n",
    "from gridfs import GridFS #GridFS는 16MB 넘는 사이즈의 데이터를 저장하고 조회하는 명세이다\n",
    "from bson import objectid #ObjectId 함수를 사용하면 id로 간단하게 접근할 수 있다"
   ]
  },
  {
   "cell_type": "code",
   "execution_count": 2,
   "metadata": {},
   "outputs": [],
   "source": [
    "#mongodb에 python_test데이터베이스에 접속\n",
    "db = MongoClient().python_test"
   ]
  },
  {
   "cell_type": "code",
   "execution_count": 3,
   "metadata": {},
   "outputs": [],
   "source": [
    "#python_test에 파일ㅇ르 저장할 GridFS객체 생성\n",
    "fs = GridFS(db)"
   ]
  },
  {
   "cell_type": "code",
   "execution_count": 4,
   "metadata": {},
   "outputs": [],
   "source": [
    "# c:/ai/workspace/mongodb/test.txt를 읽을 객체 f 생성\n",
    "with open(\"c:/ai/workspace/mongodb/test.txt\",'rb') as f:\n",
    "    #f를 통해서 데이터를 읽어 GridFS에 저장\n",
    "    fs.put(f,filename=\"test.txt\")"
   ]
  },
  {
   "cell_type": "code",
   "execution_count": 5,
   "metadata": {},
   "outputs": [
    {
     "data": {
      "text/plain": [
       "<pymongo.cursor.Cursor at 0x1c831fed910>"
      ]
     },
     "execution_count": 5,
     "metadata": {},
     "output_type": "execute_result"
    }
   ],
   "source": [
    "#GridFS에 저장된 파일 조회\n",
    "db.fs.files.find()"
   ]
  },
  {
   "cell_type": "code",
   "execution_count": 6,
   "metadata": {
    "scrolled": true
   },
   "outputs": [
    {
     "data": {
      "text/plain": [
       "[{'_id': ObjectId('608f545d103099fcaeb3cb97'),\n",
       "  'filename': 'text.txt',\n",
       "  'md5': '0b97c2704cfb0e1892bb47a0b62bef96',\n",
       "  'chunkSize': 261120,\n",
       "  'length': 35,\n",
       "  'uploadDate': datetime.datetime(2021, 5, 3, 1, 39, 41, 817000)},\n",
       " {'_id': ObjectId('608f5b19103099fcaeb3cb99'),\n",
       "  'filename': 'text.txt',\n",
       "  'md5': '0b97c2704cfb0e1892bb47a0b62bef96',\n",
       "  'chunkSize': 261120,\n",
       "  'length': 35,\n",
       "  'uploadDate': datetime.datetime(2021, 5, 3, 2, 8, 25, 859000)},\n",
       " {'_id': ObjectId('608f5c5c103099fcaeb3cb9b'),\n",
       "  'filename': 'text.txt',\n",
       "  'md5': '0b97c2704cfb0e1892bb47a0b62bef96',\n",
       "  'chunkSize': 261120,\n",
       "  'length': 35,\n",
       "  'uploadDate': datetime.datetime(2021, 5, 3, 2, 13, 48, 348000)},\n",
       " {'_id': ObjectId('608f6249103099fcaeb3cb9e'),\n",
       "  'filename': 'text.txt',\n",
       "  'md5': '0b97c2704cfb0e1892bb47a0b62bef96',\n",
       "  'chunkSize': 261120,\n",
       "  'length': 35,\n",
       "  'uploadDate': datetime.datetime(2021, 5, 3, 2, 39, 5, 598000)},\n",
       " {'_id': ObjectId('608f7f7dba2c7ff8f4523c23'),\n",
       "  'filename': '4ec12286827b12af3519749e54c8864a.jpg',\n",
       "  'metadata': {'contentType': 'image/jpg'},\n",
       "  'chunkSize': 261120,\n",
       "  'md5': '50f8bf0b0377378cdff81bdca5cdc95f',\n",
       "  'length': 23721,\n",
       "  'uploadDate': datetime.datetime(2021, 5, 3, 4, 44, 44, 935000)},\n",
       " {'_id': ObjectId('608fa51a628e2f74b002dc1e'),\n",
       "  'filename': 'test.txt',\n",
       "  'md5': '0b97c2704cfb0e1892bb47a0b62bef96',\n",
       "  'chunkSize': 261120,\n",
       "  'length': 35,\n",
       "  'uploadDate': datetime.datetime(2021, 5, 3, 7, 24, 10, 459000)}]"
      ]
     },
     "execution_count": 6,
     "metadata": {},
     "output_type": "execute_result"
    }
   ],
   "source": [
    "list(db.fs.files.find())"
   ]
  },
  {
   "cell_type": "code",
   "execution_count": 7,
   "metadata": {},
   "outputs": [],
   "source": [
    "#GridFS에 저장된 test.txt파일을 읽을 객체 f 생성\n",
    "f = fs.get_last_version(filename=\"test.txt\")"
   ]
  },
  {
   "cell_type": "code",
   "execution_count": 8,
   "metadata": {},
   "outputs": [
    {
     "data": {
      "text/plain": [
       "b'\\xeb\\xaa\\xbd\\xea\\xb3\\xa0DB GRIDFS\\xec\\x97\\x90 \\xec\\xa0\\x80\\xec\\x9e\\xa5\\xed\\x95\\xa0 \\xeb\\x82\\xb4\\xec\\x9a\\xa9'"
      ]
     },
     "execution_count": 8,
     "metadata": {},
     "output_type": "execute_result"
    }
   ],
   "source": [
    "#test.txt파일의 내용을 읽어서 data에 저장\n",
    "data=f.read()\n",
    "data"
   ]
  },
  {
   "cell_type": "code",
   "execution_count": 9,
   "metadata": {},
   "outputs": [
    {
     "data": {
      "text/plain": [
       "'몽고DB GRIDFS에 저장할 내용'"
      ]
     },
     "execution_count": 9,
     "metadata": {},
     "output_type": "execute_result"
    }
   ],
   "source": [
    "data.decode('utf-8')"
   ]
  }
 ],
 "metadata": {
  "kernelspec": {
   "display_name": "Python 3",
   "language": "python",
   "name": "python3"
  },
  "language_info": {
   "codemirror_mode": {
    "name": "ipython",
    "version": 3
   },
   "file_extension": ".py",
   "mimetype": "text/x-python",
   "name": "python",
   "nbconvert_exporter": "python",
   "pygments_lexer": "ipython3",
   "version": "3.8.5"
  }
 },
 "nbformat": 4,
 "nbformat_minor": 4
}
