{
 "cells": [
  {
   "cell_type": "markdown",
   "metadata": {},
   "source": [
    "# 히스토그램 작성"
   ]
  },
  {
   "cell_type": "code",
   "execution_count": 1,
   "metadata": {
    "scrolled": true
   },
   "outputs": [
    {
     "data": {
      "image/png": "[encoded data removed]",
      "text/plain": [
       "<Figure size 432x288 with 1 Axes>"
      ]
     },
     "metadata": {
      "needs_background": "light"
     },
     "output_type": "display_data"
    }
   ],
   "source": [
    "import matplotlib.pyplot as plt\n",
    "plt.hist([1,1,2,3,4,5,6,6,7,8,10])\n",
    "plt.show()"
   ]
  },
  {
   "cell_type": "markdown",
   "metadata": {},
   "source": [
    "## 주사위 시뮬레이션\n",
    "- 주사위를 굴린다\n",
    "- 나온 결과를 기록한다\n",
    "- 앞의 과정을 n번 반복한다\n",
    "- 주사위의 눈이 나온 횟수를 히스토그램으로 그린다"
   ]
  },
  {
   "cell_type": "code",
   "execution_count": 2,
   "metadata": {},
   "outputs": [
    {
     "name": "stdout",
     "output_type": "stream",
     "text": [
      "[6, 4, 6, 6, 1]\n"
     ]
    }
   ],
   "source": [
    "#주사위 시뮬레이션 5번 실행\n",
    "import random\n",
    "dice = []\n",
    "for i in range(5):\n",
    "    dice.append(random.randint(1,6))\n",
    "print(dice)\n"
   ]
  },
  {
   "cell_type": "code",
   "execution_count": 7,
   "metadata": {},
   "outputs": [
    {
     "data": {
      "image/png": "[encoded data removed]",
      "text/plain": [
       "<Figure size 432x288 with 1 Axes>"
      ]
     },
     "metadata": {
      "needs_background": "light"
     },
     "output_type": "display_data"
    }
   ],
   "source": [
    "#주사위 시뮬레이션 5번 실행, 6개 구간의 히스토그램으로 표현\n",
    "import matplotlib.pyplot as plt\n",
    "import random\n",
    "dice = []\n",
    "for i in range(5):\n",
    "    dice.append(random.randint(1,6))\n",
    "print(dice)\n",
    "plt.hist(dice, bins=6)\n",
    "plt.show()"
   ]
  },
  {
   "cell_type": "code",
   "execution_count": 8,
   "metadata": {},
   "outputs": [
    {
     "data": {
      "image/png": "[encoded data removed]",
      "text/plain": [
       "<Figure size 432x288 with 1 Axes>"
      ]
     },
     "metadata": {
      "needs_background": "light"
     },
     "output_type": "display_data"
    }
   ],
   "source": [
    "import csv\n",
    "import matplotlib.pyplot as plt\n",
    "\n",
    "f = open('seoul.csv')\n",
    "data = csv.reader(f)\n",
    "next(data)\n",
    "result = []\n",
    "\n",
    "for row in data :\n",
    "    if row[-1] != '' :\n",
    "        result.append(float(row[-1]))\n",
    "plt.hist(result, bins = 100, color='r') #측정된 일수는 100일 간격으로, 히스토그램\n",
    "plt.show()"
   ]
  },
  {
   "cell_type": "code",
   "execution_count": 11,
   "metadata": {},
   "outputs": [
    {
     "data": {
      "image/png": "[encoded data removed]",
      "text/plain": [
       "<Figure size 432x288 with 1 Axes>"
      ]
     },
     "metadata": {
      "needs_background": "light"
     },
     "output_type": "display_data"
    }
   ],
   "source": [
    "#8월의 최고기온 데이터 히스토그램으로 표현\n",
    "import csv\n",
    "import matplotlib.pyplot as plt\n",
    "\n",
    "f = open('seoul.csv')\n",
    "data = csv.reader(f)\n",
    "next(data)\n",
    "aug = []\n",
    "\n",
    "for row in data :\n",
    "    month = row[0].split('-')[1]\n",
    "    if row[-1] != '' :\n",
    "        if month == '08':\n",
    "            aug.append(float(row[-1]))\n",
    "\n",
    "plt.hist(aug, bins = 100, color='r') #측정된 일수는 100일 간격으로, 히스토그램\n",
    "plt.show()"
   ]
  },
  {
   "cell_type": "code",
   "execution_count": 12,
   "metadata": {},
   "outputs": [
    {
     "data": {
      "image/png": "[encoded data removed]",
      "text/plain": [
       "<Figure size 432x288 with 1 Axes>"
      ]
     },
     "metadata": {
      "needs_background": "light"
     },
     "output_type": "display_data"
    }
   ],
   "source": [
    "#1월과 8월의 최고기온 데이터 히스토그램으로 표현\n",
    "import csv\n",
    "import matplotlib.pyplot as plt\n",
    "\n",
    "f = open('seoul.csv')\n",
    "data = csv.reader(f)\n",
    "next(data)\n",
    "aug = []\n",
    "jan = []\n",
    "\n",
    "for row in data :\n",
    "    month = row[0].split('-')[1]\n",
    "    if row[-1] != '' :\n",
    "        if month == '08':\n",
    "            aug.append(float(row[-1]))\n",
    "        if month == '01':\n",
    "            jan.append(float(row[-1]))\n",
    "plt.hist(jan, bins = 100, color='b')\n",
    "plt.hist(aug, bins = 100, color='r') #측정된 일수는 100일 간격으로, 히스토그램\n",
    "plt.show()"
   ]
  },
  {
   "cell_type": "code",
   "execution_count": null,
   "metadata": {},
   "outputs": [],
   "source": []
  }
 ],
 "metadata": {
  "kernelspec": {
   "display_name": "Python 3",
   "language": "python",
   "name": "python3"
  },
  "language_info": {
   "codemirror_mode": {
    "name": "ipython",
    "version": 3
   },
   "file_extension": ".py",
   "mimetype": "text/x-python",
   "name": "python",
   "nbconvert_exporter": "python",
   "pygments_lexer": "ipython3",
   "version": "3.8.5"
  }
 },
 "nbformat": 4,
 "nbformat_minor": 4
}
